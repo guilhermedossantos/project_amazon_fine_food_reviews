{
  "nbformat": 4,
  "nbformat_minor": 0,
  "metadata": {
    "kernelspec": {
      "name": "python3",
      "display_name": "Python 3",
      "language": "python"
    },
    "language_info": {
      "name": "python",
      "version": "3.7.6",
      "mimetype": "text/x-python",
      "codemirror_mode": {
        "name": "ipython",
        "version": 3
      },
      "pygments_lexer": "ipython3",
      "nbconvert_exporter": "python",
      "file_extension": ".py"
    },
    "colab": {
      "name": "text-classification-notebook-amazon-food (7).ipynb",
      "provenance": [],
      "include_colab_link": true
    }
  },
  "cells": [
    {
      "cell_type": "markdown",
      "metadata": {
        "id": "view-in-github",
        "colab_type": "text"
      },
      "source": [
        "<a href=\"https://colab.research.google.com/github/guilhermedossantos/project_amazon_fine_food_reviews/blob/master/text_classification_notebook_amazon_food_mais_recente.ipynb\" target=\"_parent\"><img src=\"https://colab.research.google.com/assets/colab-badge.svg\" alt=\"Open In Colab\"/></a>"
      ]
    },
    {
      "cell_type": "code",
      "metadata": {
        "_uuid": "8f2839f25d086af736a60e9eeb907d3b93b6e0e5",
        "_cell_guid": "b1076dfc-b9ad-4769-8c92-a6c4dae69d19",
        "trusted": true,
        "id": "dPtOdNs3QVGP",
        "colab_type": "code",
        "colab": {},
        "outputId": "aafff21d-ef2c-4e14-e124-c1b11ad76953"
      },
      "source": [
        "!pip install texthero\n",
        "# This Python 3 environment comes with many helpful analytics libraries installed\n",
        "# It is defined by the kaggle/python Docker image: https://github.com/kaggle/docker-python\n",
        "# For example, here's several helpful packages to load\n",
        "\n",
        "import numpy as np # linear algebra\n",
        "import pandas as pd # data processing, CSV file I/O (e.g. pd.read_csv)\n",
        "import texthero as hero\n",
        "\n",
        "# Input data files are available in the read-only \"../input/\" directory\n",
        "# For example, running this (by clicking run or pressing Shift+Enter) will list all files under the input directory\n",
        "\n",
        "import os\n",
        "for dirname, _, filenames in os.walk('/kaggle/input'):\n",
        "    for filename in filenames:\n",
        "        print(os.path.join(dirname, filename))\n",
        "\n",
        "# You can write up to 5GB to the current directory (/kaggle/working/) that gets preserved as output when you create a version using \"Save & Run All\" \n",
        "# You can also write temporary files to /kaggle/temp/, but they won't be saved outside of the current session"
      ],
      "execution_count": null,
      "outputs": [
        {
          "output_type": "stream",
          "text": [
            "Requirement already satisfied: texthero in /opt/conda/lib/python3.7/site-packages (1.0.9)\n",
            "Requirement already satisfied: tqdm>=4.3 in /opt/conda/lib/python3.7/site-packages (from texthero) (4.45.0)\n",
            "Requirement already satisfied: wordcloud>=1.5.0 in /opt/conda/lib/python3.7/site-packages (from texthero) (1.7.0)\n",
            "Requirement already satisfied: matplotlib>=3.1.0 in /opt/conda/lib/python3.7/site-packages (from texthero) (3.2.1)\n",
            "Requirement already satisfied: gensim>=3.6.0 in /opt/conda/lib/python3.7/site-packages (from texthero) (3.8.3)\n",
            "Requirement already satisfied: numpy>=1.17 in /opt/conda/lib/python3.7/site-packages (from texthero) (1.18.5)\n",
            "Requirement already satisfied: nltk>=3.3 in /opt/conda/lib/python3.7/site-packages (from texthero) (3.5)\n",
            "Requirement already satisfied: plotly>=4.2.0 in /opt/conda/lib/python3.7/site-packages (from texthero) (4.9.0)\n",
            "Requirement already satisfied: spacy>=2.2.2 in /opt/conda/lib/python3.7/site-packages (from texthero) (2.2.4)\n",
            "Requirement already satisfied: scikit-learn>=0.22 in /opt/conda/lib/python3.7/site-packages (from texthero) (0.23.2)\n",
            "Requirement already satisfied: unidecode>=1.1.1 in /opt/conda/lib/python3.7/site-packages (from texthero) (1.1.1)\n",
            "Requirement already satisfied: pandas>=1.0.2 in /opt/conda/lib/python3.7/site-packages (from texthero) (1.1.0)\n",
            "Requirement already satisfied: pillow in /opt/conda/lib/python3.7/site-packages (from wordcloud>=1.5.0->texthero) (7.2.0)\n",
            "Requirement already satisfied: cycler>=0.10 in /opt/conda/lib/python3.7/site-packages (from matplotlib>=3.1.0->texthero) (0.10.0)\n",
            "Requirement already satisfied: kiwisolver>=1.0.1 in /opt/conda/lib/python3.7/site-packages (from matplotlib>=3.1.0->texthero) (1.2.0)\n",
            "Requirement already satisfied: pyparsing!=2.0.4,!=2.1.2,!=2.1.6,>=2.0.1 in /opt/conda/lib/python3.7/site-packages (from matplotlib>=3.1.0->texthero) (2.4.7)\n",
            "Requirement already satisfied: python-dateutil>=2.1 in /opt/conda/lib/python3.7/site-packages (from matplotlib>=3.1.0->texthero) (2.8.1)\n",
            "Requirement already satisfied: six>=1.5.0 in /opt/conda/lib/python3.7/site-packages (from gensim>=3.6.0->texthero) (1.14.0)\n",
            "Requirement already satisfied: smart-open>=1.8.1 in /opt/conda/lib/python3.7/site-packages (from gensim>=3.6.0->texthero) (2.1.0)\n",
            "Requirement already satisfied: scipy>=0.18.1 in /opt/conda/lib/python3.7/site-packages (from gensim>=3.6.0->texthero) (1.4.1)\n",
            "Requirement already satisfied: click in /opt/conda/lib/python3.7/site-packages (from nltk>=3.3->texthero) (7.1.1)\n",
            "Requirement already satisfied: regex in /opt/conda/lib/python3.7/site-packages (from nltk>=3.3->texthero) (2020.4.4)\n",
            "Requirement already satisfied: joblib in /opt/conda/lib/python3.7/site-packages (from nltk>=3.3->texthero) (0.14.1)\n",
            "Requirement already satisfied: retrying>=1.3.3 in /opt/conda/lib/python3.7/site-packages (from plotly>=4.2.0->texthero) (1.3.3)\n",
            "Requirement already satisfied: thinc==7.4.0 in /opt/conda/lib/python3.7/site-packages (from spacy>=2.2.2->texthero) (7.4.0)\n",
            "Requirement already satisfied: setuptools in /opt/conda/lib/python3.7/site-packages (from spacy>=2.2.2->texthero) (46.1.3.post20200325)\n",
            "Requirement already satisfied: wasabi<1.1.0,>=0.4.0 in /opt/conda/lib/python3.7/site-packages (from spacy>=2.2.2->texthero) (0.7.1)\n",
            "Requirement already satisfied: requests<3.0.0,>=2.13.0 in /opt/conda/lib/python3.7/site-packages (from spacy>=2.2.2->texthero) (2.23.0)\n",
            "Requirement already satisfied: plac<1.2.0,>=0.9.6 in /opt/conda/lib/python3.7/site-packages (from spacy>=2.2.2->texthero) (1.1.3)\n",
            "Requirement already satisfied: cymem<2.1.0,>=2.0.2 in /opt/conda/lib/python3.7/site-packages (from spacy>=2.2.2->texthero) (2.0.3)\n",
            "Requirement already satisfied: blis<0.5.0,>=0.4.0 in /opt/conda/lib/python3.7/site-packages (from spacy>=2.2.2->texthero) (0.4.1)\n",
            "Requirement already satisfied: catalogue<1.1.0,>=0.0.7 in /opt/conda/lib/python3.7/site-packages (from spacy>=2.2.2->texthero) (1.0.0)\n",
            "Requirement already satisfied: murmurhash<1.1.0,>=0.28.0 in /opt/conda/lib/python3.7/site-packages (from spacy>=2.2.2->texthero) (1.0.2)\n",
            "Requirement already satisfied: preshed<3.1.0,>=3.0.2 in /opt/conda/lib/python3.7/site-packages (from spacy>=2.2.2->texthero) (3.0.2)\n",
            "Requirement already satisfied: srsly<1.1.0,>=1.0.2 in /opt/conda/lib/python3.7/site-packages (from spacy>=2.2.2->texthero) (1.0.2)\n",
            "Requirement already satisfied: threadpoolctl>=2.0.0 in /opt/conda/lib/python3.7/site-packages (from scikit-learn>=0.22->texthero) (2.1.0)\n",
            "Requirement already satisfied: pytz>=2017.2 in /opt/conda/lib/python3.7/site-packages (from pandas>=1.0.2->texthero) (2019.3)\n",
            "Requirement already satisfied: boto3 in /opt/conda/lib/python3.7/site-packages (from smart-open>=1.8.1->gensim>=3.6.0->texthero) (1.14.37)\n",
            "Requirement already satisfied: boto in /opt/conda/lib/python3.7/site-packages (from smart-open>=1.8.1->gensim>=3.6.0->texthero) (2.49.0)\n",
            "Requirement already satisfied: idna<3,>=2.5 in /opt/conda/lib/python3.7/site-packages (from requests<3.0.0,>=2.13.0->spacy>=2.2.2->texthero) (2.9)\n",
            "Requirement already satisfied: chardet<4,>=3.0.2 in /opt/conda/lib/python3.7/site-packages (from requests<3.0.0,>=2.13.0->spacy>=2.2.2->texthero) (3.0.4)\n",
            "Requirement already satisfied: urllib3!=1.25.0,!=1.25.1,<1.26,>=1.21.1 in /opt/conda/lib/python3.7/site-packages (from requests<3.0.0,>=2.13.0->spacy>=2.2.2->texthero) (1.24.3)\n",
            "Requirement already satisfied: certifi>=2017.4.17 in /opt/conda/lib/python3.7/site-packages (from requests<3.0.0,>=2.13.0->spacy>=2.2.2->texthero) (2020.6.20)\n",
            "Requirement already satisfied: importlib-metadata>=0.20; python_version < \"3.8\" in /opt/conda/lib/python3.7/site-packages (from catalogue<1.1.0,>=0.0.7->spacy>=2.2.2->texthero) (1.6.0)\n",
            "Requirement already satisfied: jmespath<1.0.0,>=0.7.1 in /opt/conda/lib/python3.7/site-packages (from boto3->smart-open>=1.8.1->gensim>=3.6.0->texthero) (0.10.0)\n",
            "Requirement already satisfied: s3transfer<0.4.0,>=0.3.0 in /opt/conda/lib/python3.7/site-packages (from boto3->smart-open>=1.8.1->gensim>=3.6.0->texthero) (0.3.3)\n",
            "Requirement already satisfied: botocore<1.18.0,>=1.17.37 in /opt/conda/lib/python3.7/site-packages (from boto3->smart-open>=1.8.1->gensim>=3.6.0->texthero) (1.17.37)\n",
            "Requirement already satisfied: zipp>=0.5 in /opt/conda/lib/python3.7/site-packages (from importlib-metadata>=0.20; python_version < \"3.8\"->catalogue<1.1.0,>=0.0.7->spacy>=2.2.2->texthero) (3.1.0)\n",
            "Requirement already satisfied: docutils<0.16,>=0.10 in /opt/conda/lib/python3.7/site-packages (from botocore<1.18.0,>=1.17.37->boto3->smart-open>=1.8.1->gensim>=3.6.0->texthero) (0.15.2)\n",
            "\u001b[33mWARNING: You are using pip version 20.2.1; however, version 20.2.2 is available.\n",
            "You should consider upgrading via the '/opt/conda/bin/python3.7 -m pip install --upgrade pip' command.\u001b[0m\n",
            "/kaggle/input/amazon-fine-food-reviews/Reviews.csv\n",
            "/kaggle/input/amazon-fine-food-reviews/database.sqlite\n",
            "/kaggle/input/amazon-fine-food-reviews/hashes.txt\n"
          ],
          "name": "stdout"
        }
      ]
    },
    {
      "cell_type": "code",
      "metadata": {
        "_uuid": "d629ff2d2480ee46fbb7e2d37f6b5fab8052498a",
        "_cell_guid": "79c7e3d0-c299-4dcb-8224-4455121ee9b0",
        "trusted": true,
        "id": "mprH5E1CQVGS",
        "colab_type": "code",
        "colab": {}
      },
      "source": [
        "## leitura\n",
        "df = pd.read_csv('../input/amazon-fine-food-reviews/Reviews.csv')"
      ],
      "execution_count": null,
      "outputs": []
    },
    {
      "cell_type": "code",
      "metadata": {
        "trusted": true,
        "id": "0HBsfVxHQVGV",
        "colab_type": "code",
        "colab": {},
        "outputId": "acd2e2cc-6326-4084-97ed-ae6e127800c3"
      },
      "source": [
        "list(df.columns)"
      ],
      "execution_count": null,
      "outputs": [
        {
          "output_type": "execute_result",
          "data": {
            "text/plain": [
              "['Id',\n",
              " 'ProductId',\n",
              " 'UserId',\n",
              " 'ProfileName',\n",
              " 'HelpfulnessNumerator',\n",
              " 'HelpfulnessDenominator',\n",
              " 'Score',\n",
              " 'Time',\n",
              " 'Summary',\n",
              " 'Text']"
            ]
          },
          "metadata": {
            "tags": []
          },
          "execution_count": 32
        }
      ]
    },
    {
      "cell_type": "markdown",
      "metadata": {
        "id": "QjsfL8aAQVGX",
        "colab_type": "text"
      },
      "source": [
        "## Tratamento e EDA?"
      ]
    },
    {
      "cell_type": "code",
      "metadata": {
        "trusted": true,
        "id": "o9-Rq3qZQVGY",
        "colab_type": "code",
        "colab": {},
        "outputId": "2673da26-af42-42bd-d633-f0ce7dcd5a99"
      },
      "source": [
        "#queremos apenas as colunas summary, text e score\n",
        "df = df[['Summary', 'Text', 'Score']]\n",
        "df = df.rename(str.lower, axis='columns')\n",
        "df.head()\n"
      ],
      "execution_count": null,
      "outputs": [
        {
          "output_type": "execute_result",
          "data": {
            "text/plain": [
              "                 summary                                               text  \\\n",
              "0  Good Quality Dog Food  I have bought several of the Vitality canned d...   \n",
              "1      Not as Advertised  Product arrived labeled as Jumbo Salted Peanut...   \n",
              "2  \"Delight\" says it all  This is a confection that has been around a fe...   \n",
              "3         Cough Medicine  If you are looking for the secret ingredient i...   \n",
              "4            Great taffy  Great taffy at a great price.  There was a wid...   \n",
              "\n",
              "   score  \n",
              "0      5  \n",
              "1      1  \n",
              "2      4  \n",
              "3      2  \n",
              "4      5  "
            ],
            "text/html": [
              "<div>\n",
              "<style scoped>\n",
              "    .dataframe tbody tr th:only-of-type {\n",
              "        vertical-align: middle;\n",
              "    }\n",
              "\n",
              "    .dataframe tbody tr th {\n",
              "        vertical-align: top;\n",
              "    }\n",
              "\n",
              "    .dataframe thead th {\n",
              "        text-align: right;\n",
              "    }\n",
              "</style>\n",
              "<table border=\"1\" class=\"dataframe\">\n",
              "  <thead>\n",
              "    <tr style=\"text-align: right;\">\n",
              "      <th></th>\n",
              "      <th>summary</th>\n",
              "      <th>text</th>\n",
              "      <th>score</th>\n",
              "    </tr>\n",
              "  </thead>\n",
              "  <tbody>\n",
              "    <tr>\n",
              "      <th>0</th>\n",
              "      <td>Good Quality Dog Food</td>\n",
              "      <td>I have bought several of the Vitality canned d...</td>\n",
              "      <td>5</td>\n",
              "    </tr>\n",
              "    <tr>\n",
              "      <th>1</th>\n",
              "      <td>Not as Advertised</td>\n",
              "      <td>Product arrived labeled as Jumbo Salted Peanut...</td>\n",
              "      <td>1</td>\n",
              "    </tr>\n",
              "    <tr>\n",
              "      <th>2</th>\n",
              "      <td>\"Delight\" says it all</td>\n",
              "      <td>This is a confection that has been around a fe...</td>\n",
              "      <td>4</td>\n",
              "    </tr>\n",
              "    <tr>\n",
              "      <th>3</th>\n",
              "      <td>Cough Medicine</td>\n",
              "      <td>If you are looking for the secret ingredient i...</td>\n",
              "      <td>2</td>\n",
              "    </tr>\n",
              "    <tr>\n",
              "      <th>4</th>\n",
              "      <td>Great taffy</td>\n",
              "      <td>Great taffy at a great price.  There was a wid...</td>\n",
              "      <td>5</td>\n",
              "    </tr>\n",
              "  </tbody>\n",
              "</table>\n",
              "</div>"
            ]
          },
          "metadata": {
            "tags": []
          },
          "execution_count": 33
        }
      ]
    },
    {
      "cell_type": "code",
      "metadata": {
        "trusted": true,
        "id": "edGOPY5HQVGb",
        "colab_type": "code",
        "colab": {}
      },
      "source": [
        "df['text'] = hero.clean(df['text'])\n"
      ],
      "execution_count": null,
      "outputs": []
    },
    {
      "cell_type": "code",
      "metadata": {
        "trusted": true,
        "id": "90cGbgtiQVGd",
        "colab_type": "code",
        "colab": {},
        "outputId": "12ba282d-fc5c-484c-9076-9bf3c1f0b6e6"
      },
      "source": [
        "print(len(df))\n",
        "df = df.drop_duplicates()\n",
        "print(len(df))"
      ],
      "execution_count": null,
      "outputs": [
        {
          "output_type": "stream",
          "text": [
            "568454\n",
            "394710\n"
          ],
          "name": "stdout"
        }
      ]
    },
    {
      "cell_type": "code",
      "metadata": {
        "trusted": true,
        "id": "RbTcsVYOQVGf",
        "colab_type": "code",
        "colab": {},
        "outputId": "88efa30d-2077-437f-8407-a4a1f6f235e5"
      },
      "source": [
        "import seaborn as sns \n",
        "import matplotlib.pyplot as plt \n",
        "\n",
        "ax = sns.countplot(df['score']) \n",
        "ax.set(xlabel='Score', ylabel='Frequência')\n",
        "plt.show()\n"
      ],
      "execution_count": null,
      "outputs": [
        {
          "output_type": "display_data",
          "data": {
            "text/plain": [
              "<Figure size 432x288 with 1 Axes>"
            ],
            "image/png": "[encoded data removed]"
          },
          "metadata": {
            "tags": [],
            "needs_background": "light"
          }
        }
      ]
    },
    {
      "cell_type": "markdown",
      "metadata": {
        "id": "rAJ5rruLQVGi",
        "colab_type": "text"
      },
      "source": [
        " - dados desbalanceados"
      ]
    },
    {
      "cell_type": "code",
      "metadata": {
        "trusted": true,
        "id": "t5a1ciLEQVGi",
        "colab_type": "code",
        "colab": {}
      },
      "source": [
        ""
      ],
      "execution_count": null,
      "outputs": []
    },
    {
      "cell_type": "code",
      "metadata": {
        "trusted": true,
        "id": "61UV7lK7QVGm",
        "colab_type": "code",
        "colab": {}
      },
      "source": [
        ""
      ],
      "execution_count": null,
      "outputs": []
    },
    {
      "cell_type": "markdown",
      "metadata": {
        "id": "AVVKkHQpQVGo",
        "colab_type": "text"
      },
      "source": [
        "## Modelos"
      ]
    },
    {
      "cell_type": "markdown",
      "metadata": {
        "id": "aMYqvgafQVGo",
        "colab_type": "text"
      },
      "source": [
        "### Validação cruzada utilizando naive bayes multinomial para as 5 classes"
      ]
    },
    {
      "cell_type": "code",
      "metadata": {
        "trusted": true,
        "id": "fh2DpnE7QVGo",
        "colab_type": "code",
        "colab": {}
      },
      "source": [
        "from sklearn.feature_extraction.text import TfidfTransformer \n",
        "from sklearn.naive_bayes import MultinomialNB, BernoulliNB\n",
        "from sklearn.pipeline import Pipeline\n",
        "from sklearn.feature_extraction.text import CountVectorizer"
      ],
      "execution_count": null,
      "outputs": []
    },
    {
      "cell_type": "code",
      "metadata": {
        "trusted": true,
        "id": "DcDe4vL7QVGq",
        "colab_type": "code",
        "colab": {}
      },
      "source": [
        "teste = Pipeline([('CVec', CountVectorizer(stop_words='english')),\n",
        "                     ('Tfidf', TfidfTransformer()), \n",
        "                     ('MNB', MultinomialNB())])\n",
        "\n"
      ],
      "execution_count": null,
      "outputs": []
    },
    {
      "cell_type": "markdown",
      "metadata": {
        "id": "FvhZM3RUQVGt",
        "colab_type": "text"
      },
      "source": [
        "### Tentativa inicial de naivebayes multinomial (n sei se vale a pena incluir, talvez apenas mencionar)"
      ]
    },
    {
      "cell_type": "code",
      "metadata": {
        "trusted": true,
        "id": "mJe9dIDZQVGt",
        "colab_type": "code",
        "colab": {},
        "outputId": "d8b17abb-1341-4ff0-a443-2fdb32a00720"
      },
      "source": [
        "from sklearn.model_selection import cross_validate\n",
        "cv_pred = cross_validate(teste,\n",
        "                             df['text'], \n",
        "                             df['score'], \n",
        "                             cv=5,\n",
        "                             scoring=('roc_auc_ovr', 'accuracy'), n_jobs=-1, verbose =10)"
      ],
      "execution_count": null,
      "outputs": [
        {
          "output_type": "stream",
          "text": [
            "[Parallel(n_jobs=-1)]: Using backend LokyBackend with 4 concurrent workers.\n",
            "[Parallel(n_jobs=-1)]: Done   2 out of   5 | elapsed:   37.8s remaining:   56.6s\n",
            "[Parallel(n_jobs=-1)]: Done   3 out of   5 | elapsed:   38.6s remaining:   25.7s\n",
            "[Parallel(n_jobs=-1)]: Done   5 out of   5 | elapsed:   56.6s remaining:    0.0s\n",
            "[Parallel(n_jobs=-1)]: Done   5 out of   5 | elapsed:   56.6s finished\n"
          ],
          "name": "stderr"
        }
      ]
    },
    {
      "cell_type": "code",
      "metadata": {
        "trusted": true,
        "id": "FgXxVvVVQVGv",
        "colab_type": "code",
        "colab": {},
        "outputId": "ccd1aa3d-a65f-466e-eb93-b045fb8bb4c1"
      },
      "source": [
        "print('roc: ' + str(cv_pred['test_roc_auc_ovr']))\n",
        "print('acuracia: ' + str(cv_pred['test_accuracy']))"
      ],
      "execution_count": null,
      "outputs": [
        {
          "output_type": "stream",
          "text": [
            "roc: [0.76575797 0.76538489 0.76574188 0.77184195 0.76946176]\n",
            "acuracia: [0.64323174 0.64296572 0.64349776 0.64338375 0.64357376]\n"
          ],
          "name": "stdout"
        }
      ]
    },
    {
      "cell_type": "markdown",
      "metadata": {
        "id": "9z8okzByQVGy",
        "colab_type": "text"
      },
      "source": [
        "roc meio baix a e acuracia baixa tbm (sera que a gnt deve incluir a roc como medida tbm?)"
      ]
    },
    {
      "cell_type": "markdown",
      "metadata": {
        "id": "zFV8uc2tQVGy",
        "colab_type": "text"
      },
      "source": [
        "### Tentativa com naive bayes considerando dados binarios "
      ]
    },
    {
      "cell_type": "code",
      "metadata": {
        "trusted": true,
        "id": "LwEla_WAQVGz",
        "colab_type": "code",
        "colab": {},
        "outputId": "5466c6ff-8dec-4e72-8919-95f6d222549e"
      },
      "source": [
        "tr_where = np.where(df.score <= 3, 0, 1)\n",
        "#tst = pd.Series(tr_where)\n",
        "df['score2'] = tr_where\n",
        "df.tail()"
      ],
      "execution_count": null,
      "outputs": [
        {
          "output_type": "execute_result",
          "data": {
            "text/plain": [
              "                                   summary  \\\n",
              "568449                 Will not do without   \n",
              "568450                        disappointed   \n",
              "568451            Perfect for our maltipoo   \n",
              "568452  Favorite Training and reward treat   \n",
              "568453                         Great Honey   \n",
              "\n",
              "                                                     text  score  score2  \n",
              "568449  great sesame chicken good better resturants ea...      5       1  \n",
              "568450  disappointed flavor chocolate notes especially...      2       0  \n",
              "568451  stars small give one training session tried tr...      5       1  \n",
              "568452  best treats training rewarding dog good groomi...      5       1  \n",
              "568453  satisfied product advertised use cereal raw vi...      5       1  "
            ],
            "text/html": [
              "<div>\n",
              "<style scoped>\n",
              "    .dataframe tbody tr th:only-of-type {\n",
              "        vertical-align: middle;\n",
              "    }\n",
              "\n",
              "    .dataframe tbody tr th {\n",
              "        vertical-align: top;\n",
              "    }\n",
              "\n",
              "    .dataframe thead th {\n",
              "        text-align: right;\n",
              "    }\n",
              "</style>\n",
              "<table border=\"1\" class=\"dataframe\">\n",
              "  <thead>\n",
              "    <tr style=\"text-align: right;\">\n",
              "      <th></th>\n",
              "      <th>summary</th>\n",
              "      <th>text</th>\n",
              "      <th>score</th>\n",
              "      <th>score2</th>\n",
              "    </tr>\n",
              "  </thead>\n",
              "  <tbody>\n",
              "    <tr>\n",
              "      <th>568449</th>\n",
              "      <td>Will not do without</td>\n",
              "      <td>great sesame chicken good better resturants ea...</td>\n",
              "      <td>5</td>\n",
              "      <td>1</td>\n",
              "    </tr>\n",
              "    <tr>\n",
              "      <th>568450</th>\n",
              "      <td>disappointed</td>\n",
              "      <td>disappointed flavor chocolate notes especially...</td>\n",
              "      <td>2</td>\n",
              "      <td>0</td>\n",
              "    </tr>\n",
              "    <tr>\n",
              "      <th>568451</th>\n",
              "      <td>Perfect for our maltipoo</td>\n",
              "      <td>stars small give one training session tried tr...</td>\n",
              "      <td>5</td>\n",
              "      <td>1</td>\n",
              "    </tr>\n",
              "    <tr>\n",
              "      <th>568452</th>\n",
              "      <td>Favorite Training and reward treat</td>\n",
              "      <td>best treats training rewarding dog good groomi...</td>\n",
              "      <td>5</td>\n",
              "      <td>1</td>\n",
              "    </tr>\n",
              "    <tr>\n",
              "      <th>568453</th>\n",
              "      <td>Great Honey</td>\n",
              "      <td>satisfied product advertised use cereal raw vi...</td>\n",
              "      <td>5</td>\n",
              "      <td>1</td>\n",
              "    </tr>\n",
              "  </tbody>\n",
              "</table>\n",
              "</div>"
            ]
          },
          "metadata": {
            "tags": []
          },
          "execution_count": 41
        }
      ]
    },
    {
      "cell_type": "code",
      "metadata": {
        "trusted": true,
        "id": "YEdAPq-lQVG1",
        "colab_type": "code",
        "colab": {},
        "outputId": "b3772ab2-6af7-4375-e16d-c82f19e38eaf"
      },
      "source": [
        "ax = sns.countplot(df['score2']) \n",
        "ax.set(xlabel='Score', ylabel='Frequência')\n",
        "plt.show()"
      ],
      "execution_count": null,
      "outputs": [
        {
          "output_type": "display_data",
          "data": {
            "text/plain": [
              "<Figure size 432x288 with 1 Axes>"
            ],
            "image/png": "[encoded data removed]"
          },
          "metadata": {
            "tags": [],
            "needs_background": "light"
          }
        }
      ]
    },
    {
      "cell_type": "code",
      "metadata": {
        "trusted": true,
        "id": "JFz9SF8yQVG3",
        "colab_type": "code",
        "colab": {}
      },
      "source": [
        "## fazer o split\n",
        "from sklearn.model_selection import train_test_split\n",
        "\n",
        "X = df['text']\n",
        "y = df['score2']\n",
        "X_train, X_test, y_train, y_test = train_test_split(X, y, random_state = 42, test_size = 0.2)"
      ],
      "execution_count": null,
      "outputs": []
    },
    {
      "cell_type": "code",
      "metadata": {
        "trusted": true,
        "id": "GmRxjh98QVG5",
        "colab_type": "code",
        "colab": {},
        "outputId": "306e6148-2fc0-4ae1-93b3-c70a0bcb41b3"
      },
      "source": [
        "teste2 = Pipeline([('CVec', CountVectorizer(stop_words='english')),\n",
        "                     ('Tfidf', TfidfTransformer()),\n",
        "                     ('BNB', BernoulliNB())])\n",
        "## validação cruzada na base de treino\n",
        "cv_pred = cross_validate(teste2,\n",
        "                             X_train, \n",
        "                             y_train, \n",
        "                             cv=5,\n",
        "                             scoring=('roc_auc_ovr', 'accuracy'), n_jobs=-1, verbose =10)"
      ],
      "execution_count": null,
      "outputs": [
        {
          "output_type": "stream",
          "text": [
            "[Parallel(n_jobs=-1)]: Using backend LokyBackend with 4 concurrent workers.\n",
            "[Parallel(n_jobs=-1)]: Done   2 out of   5 | elapsed:   29.8s remaining:   44.7s\n",
            "[Parallel(n_jobs=-1)]: Done   3 out of   5 | elapsed:   30.1s remaining:   20.1s\n",
            "[Parallel(n_jobs=-1)]: Done   5 out of   5 | elapsed:   44.6s remaining:    0.0s\n",
            "[Parallel(n_jobs=-1)]: Done   5 out of   5 | elapsed:   44.6s finished\n"
          ],
          "name": "stderr"
        }
      ]
    },
    {
      "cell_type": "code",
      "metadata": {
        "trusted": true,
        "id": "6g12T4YcQVG8",
        "colab_type": "code",
        "colab": {},
        "outputId": "473d25b1-6ac8-4771-86da-197636fda423"
      },
      "source": [
        "print('roc: ' + str(cv_pred['test_roc_auc_ovr']))\n",
        "print('acuracia: ' + str(cv_pred['test_accuracy']))"
      ],
      "execution_count": null,
      "outputs": [
        {
          "output_type": "stream",
          "text": [
            "roc: [0.88550904 0.88295777 0.87826682 0.88225714 0.88287558]\n",
            "acuracia: [0.83790417 0.8351015  0.83111125 0.83551059 0.83733156]\n"
          ],
          "name": "stdout"
        }
      ]
    },
    {
      "cell_type": "markdown",
      "metadata": {
        "id": "-ERvsfxxQVG-",
        "colab_type": "text"
      },
      "source": [
        "### Regressão logistica"
      ]
    },
    {
      "cell_type": "code",
      "metadata": {
        "trusted": true,
        "id": "bdNtr6sTQVG-",
        "colab_type": "code",
        "colab": {},
        "outputId": "ff0b83ea-40ba-43ae-86ad-d063f59ca824"
      },
      "source": [
        "from sklearn.linear_model import LogisticRegression\n",
        "teste3 = Pipeline([('CVec', CountVectorizer(stop_words='english')),\n",
        "                     ('Tfidf', TfidfTransformer()),\n",
        "                  ('logreg', LogisticRegression(max_iter = 1000))])\n",
        "\n",
        "cv_pred = cross_validate(teste3,\n",
        "                             X_train, \n",
        "                             y_train, \n",
        "                             cv=5,\n",
        "                             scoring=('roc_auc_ovr', 'accuracy'), n_jobs=-1, verbose =10)\n"
      ],
      "execution_count": null,
      "outputs": [
        {
          "output_type": "stream",
          "text": [
            "[Parallel(n_jobs=-1)]: Using backend LokyBackend with 4 concurrent workers.\n",
            "[Parallel(n_jobs=-1)]: Done   2 out of   5 | elapsed:   56.1s remaining:  1.4min\n",
            "[Parallel(n_jobs=-1)]: Done   3 out of   5 | elapsed:   58.4s remaining:   38.9s\n",
            "[Parallel(n_jobs=-1)]: Done   5 out of   5 | elapsed:  1.4min remaining:    0.0s\n",
            "[Parallel(n_jobs=-1)]: Done   5 out of   5 | elapsed:  1.4min finished\n"
          ],
          "name": "stderr"
        }
      ]
    },
    {
      "cell_type": "code",
      "metadata": {
        "trusted": true,
        "id": "_n2d535pQVHB",
        "colab_type": "code",
        "colab": {},
        "outputId": "3a1103e8-2cad-4fb8-e43e-f7502aee104b"
      },
      "source": [
        "print('roc: ' + str(cv_pred['test_roc_auc_ovr']))\n",
        "print('acuracia: ' + str(cv_pred['test_accuracy']))"
      ],
      "execution_count": null,
      "outputs": [
        {
          "output_type": "stream",
          "text": [
            "roc: [0.92678252 0.92631873 0.92562148 0.92562615 0.92571051]\n",
            "acuracia: [0.88654717 0.88456788 0.88776641 0.88602283 0.88603867]\n"
          ],
          "name": "stdout"
        }
      ]
    },
    {
      "cell_type": "markdown",
      "metadata": {
        "id": "qFLd7XK4QVHD",
        "colab_type": "text"
      },
      "source": [
        "#### teste regressao logistica"
      ]
    },
    {
      "cell_type": "code",
      "metadata": {
        "trusted": true,
        "id": "IVmWdIlrQVHE",
        "colab_type": "code",
        "colab": {}
      },
      "source": [
        "result = teste3.fit(X_train, y_train)"
      ],
      "execution_count": null,
      "outputs": []
    },
    {
      "cell_type": "code",
      "metadata": {
        "trusted": true,
        "id": "Sh0UjIdBQVHG",
        "colab_type": "code",
        "colab": {},
        "outputId": "caacb049-9b61-43bc-b543-76c6471193fe"
      },
      "source": [
        "from sklearn.metrics import classification_report, confusion_matrix\n",
        "print(\"TREINO:\")\n",
        "print(classification_report(y_train, result.predict(X_train), digits = 3))"
      ],
      "execution_count": null,
      "outputs": [
        {
          "output_type": "stream",
          "text": [
            "TREINO:\n",
            "              precision    recall  f1-score   support\n",
            "\n",
            "           0      0.840     0.669     0.745     69724\n",
            "           1      0.911     0.964     0.937    246044\n",
            "\n",
            "    accuracy                          0.899    315768\n",
            "   macro avg      0.876     0.816     0.841    315768\n",
            "weighted avg      0.896     0.899     0.895    315768\n",
            "\n"
          ],
          "name": "stdout"
        }
      ]
    },
    {
      "cell_type": "markdown",
      "metadata": {
        "id": "eqgy-YH0QVHI",
        "colab_type": "text"
      },
      "source": [
        "###### teste"
      ]
    },
    {
      "cell_type": "code",
      "metadata": {
        "trusted": true,
        "id": "EOfKbrlxQVHI",
        "colab_type": "code",
        "colab": {},
        "outputId": "f8115b5b-4696-4fbd-d5a7-3891343767f5"
      },
      "source": [
        "from sklearn.metrics import classification_report, confusion_matrix\n",
        "print(classification_report(y_test, result.predict(X_test), digits = 3))"
      ],
      "execution_count": null,
      "outputs": [
        {
          "output_type": "stream",
          "text": [
            "              precision    recall  f1-score   support\n",
            "\n",
            "           0      0.801     0.635     0.708     17376\n",
            "           1      0.903     0.955     0.928     61566\n",
            "\n",
            "    accuracy                          0.885     78942\n",
            "   macro avg      0.852     0.795     0.818     78942\n",
            "weighted avg      0.880     0.885     0.880     78942\n",
            "\n"
          ],
          "name": "stdout"
        }
      ]
    },
    {
      "cell_type": "code",
      "metadata": {
        "trusted": true,
        "id": "L-Gjc1vGQVHK",
        "colab_type": "code",
        "colab": {},
        "outputId": "4ecaf9df-6468-4e57-b9ae-8275af6f0730"
      },
      "source": [
        "confusion_matrix(y_test, result.predict(X_test))"
      ],
      "execution_count": null,
      "outputs": [
        {
          "output_type": "execute_result",
          "data": {
            "text/plain": [
              "array([[11028,  6348],\n",
              "       [ 2746, 58820]])"
            ]
          },
          "metadata": {
            "tags": []
          },
          "execution_count": 51
        }
      ]
    },
    {
      "cell_type": "markdown",
      "metadata": {
        "id": "k2JmLxy6QVHN",
        "colab_type": "text"
      },
      "source": [
        "com acuracia alta mas prediz mt melhor pra classe de maior frequencia, pra outra ele acerta em torno de 63%, que não é maneiro"
      ]
    },
    {
      "cell_type": "markdown",
      "metadata": {
        "id": "Hk3-d3oUQVHN",
        "colab_type": "text"
      },
      "source": [
        "#### teste nb"
      ]
    },
    {
      "cell_type": "code",
      "metadata": {
        "trusted": true,
        "id": "rd2HixUtQVHN",
        "colab_type": "code",
        "colab": {},
        "outputId": "f1ea6816-1767-4626-8ddb-ae7a2d0ffdaa"
      },
      "source": [
        "result2 = teste2.fit(X_train, y_train)\n",
        "print(\"TREINO:\")\n",
        "print(classification_report(y_train, result2.predict(X_train), digits = 3))"
      ],
      "execution_count": null,
      "outputs": [
        {
          "output_type": "stream",
          "text": [
            "TREINO:\n",
            "              precision    recall  f1-score   support\n",
            "\n",
            "           0      0.678     0.593     0.633     69724\n",
            "           1      0.889     0.920     0.904    246044\n",
            "\n",
            "    accuracy                          0.848    315768\n",
            "   macro avg      0.783     0.757     0.769    315768\n",
            "weighted avg      0.842     0.848     0.844    315768\n",
            "\n"
          ],
          "name": "stdout"
        }
      ]
    },
    {
      "cell_type": "code",
      "metadata": {
        "trusted": true,
        "id": "aGbdDPHFQVHQ",
        "colab_type": "code",
        "colab": {},
        "outputId": "b0576f53-846e-4897-aaa0-e2eb418bac65"
      },
      "source": [
        "\n",
        "print(classification_report(y_test, result2.predict(X_test), digits = 3))"
      ],
      "execution_count": null,
      "outputs": [
        {
          "output_type": "stream",
          "text": [
            "              precision    recall  f1-score   support\n",
            "\n",
            "           0      0.648     0.552     0.596     17376\n",
            "           1      0.879     0.915     0.897     61566\n",
            "\n",
            "    accuracy                          0.835     78942\n",
            "   macro avg      0.763     0.734     0.746     78942\n",
            "weighted avg      0.828     0.835     0.830     78942\n",
            "\n"
          ],
          "name": "stdout"
        }
      ]
    },
    {
      "cell_type": "code",
      "metadata": {
        "trusted": true,
        "id": "EXy9En-BQVHS",
        "colab_type": "code",
        "colab": {},
        "outputId": "09c3d671-2be5-4ec9-ce82-9ea317674b66"
      },
      "source": [
        "confusion_matrix(y_test, result2.predict(X_test))"
      ],
      "execution_count": null,
      "outputs": [
        {
          "output_type": "execute_result",
          "data": {
            "text/plain": [
              "array([[ 9599,  7777],\n",
              "       [ 5224, 56342]])"
            ]
          },
          "metadata": {
            "tags": []
          },
          "execution_count": 54
        }
      ]
    },
    {
      "cell_type": "code",
      "metadata": {
        "trusted": true,
        "id": "HSieHOC9QVHU",
        "colab_type": "code",
        "colab": {}
      },
      "source": [
        "#confusion_matrix(df['score2'], result.predict(df['text']))"
      ],
      "execution_count": null,
      "outputs": []
    },
    {
      "cell_type": "markdown",
      "metadata": {
        "id": "6xxiK1ztQVHW",
        "colab_type": "text"
      },
      "source": [
        "da pra ver que a acuracia da alta beleza. olhando p performace ali separadamente a gnt ve que grande parte do motivo da acuracia alta é o desbalanceamento, ai a gnt usa isso como justificativa pra fazer balanceado"
      ]
    },
    {
      "cell_type": "markdown",
      "metadata": {
        "id": "WpvhGpLBQVHW",
        "colab_type": "text"
      },
      "source": [
        "## Procedimento com balanceamento dos dados usando downsampling"
      ]
    },
    {
      "cell_type": "markdown",
      "metadata": {
        "id": "F0ns1xEOQVHX",
        "colab_type": "text"
      },
      "source": [
        "Downsampling é uma técnica usada para balancear os dados que consite em tirar uma amostra da classe com maior frequencia para igualar com a classe de menor frequencia. Tem outras estrategia como repetir as observações da classe com freq menor (acho que é chamado upsampling). tem tambem um tal de smote que tinha sido mencionado em algum slide, talvez valha só mencionar que tem outras mas escolhemos essa por ser mais simples e facil de explicar"
      ]
    },
    {
      "cell_type": "code",
      "metadata": {
        "trusted": true,
        "id": "OX8u4zgOQVHX",
        "colab_type": "code",
        "colab": {},
        "outputId": "5ff9cee8-30bb-460d-e0ff-fb74a98cb9cb"
      },
      "source": [
        "from sklearn.utils import resample\n",
        "\n",
        "df1 = df[df.score2==0]\n",
        "df2 = df[df.score2==1]\n",
        " \n",
        "# Retirando uma amostra do tamanho da base amostra que tem o score = 0\n",
        "df2_downsampled = resample(df2,\n",
        "               replace = False,    \n",
        "               n_samples=len(df1), \n",
        "               random_state=42) \n",
        " \n",
        "# Combine minority class with downsampled majority class\n",
        "df = pd.concat([df1, df2_downsampled])\n",
        " \n",
        "# Display new class counts\n",
        "df.score2.value_counts()"
      ],
      "execution_count": null,
      "outputs": [
        {
          "output_type": "execute_result",
          "data": {
            "text/plain": [
              "1    87100\n",
              "0    87100\n",
              "Name: score2, dtype: int64"
            ]
          },
          "metadata": {
            "tags": []
          },
          "execution_count": 56
        }
      ]
    },
    {
      "cell_type": "markdown",
      "metadata": {
        "id": "BQr8_opVQVHZ",
        "colab_type": "text"
      },
      "source": [
        "#### Divisão treino-teste"
      ]
    },
    {
      "cell_type": "code",
      "metadata": {
        "trusted": true,
        "id": "uQqGBfNSQVHZ",
        "colab_type": "code",
        "colab": {}
      },
      "source": [
        "from sklearn.model_selection import train_test_split\n",
        "X = df['text']\n",
        "y = df['score2']\n",
        "X_train, X_test, y_train, y_test = train_test_split(X, y, random_state = 42, test_size = 0.2)"
      ],
      "execution_count": null,
      "outputs": []
    },
    {
      "cell_type": "code",
      "metadata": {
        "trusted": true,
        "id": "rXw1nckKQVHc",
        "colab_type": "code",
        "colab": {},
        "outputId": "9c5e060c-d429-4d13-cda1-07545e9cac70"
      },
      "source": [
        "pipeline_NB = Pipeline([('CVec', CountVectorizer(stop_words='english')),\n",
        "                        ('Tfidf', TfidfTransformer()),\n",
        "                        ('BNB', BernoulliNB())])\n",
        "\n",
        "pipeline_logreg = Pipeline([('CVec', CountVectorizer(stop_words='english')),\n",
        "                        ('Tfidf', TfidfTransformer()),\n",
        "                        ('LREG', LogisticRegression(max_iter = 1000))])\n",
        "\n",
        "# 5-fold cross-validation no treino para ambos os modelos\n",
        "cv1 = cross_validate(pipeline_NB,\n",
        "                     X_train, \n",
        "                     y_train, \n",
        "                     cv=5,\n",
        "                     scoring=('roc_auc_ovr', 'accuracy'), n_jobs=-1, verbose =10)\n",
        "\n",
        "cv2 = cross_validate(pipeline_logreg,\n",
        "                     X_train, \n",
        "                     y_train, \n",
        "                     cv = 5,\n",
        "                     scoring=('roc_auc_ovr', 'accuracy'), n_jobs=-1, verbose =10)\n"
      ],
      "execution_count": null,
      "outputs": [
        {
          "output_type": "stream",
          "text": [
            "[Parallel(n_jobs=-1)]: Using backend LokyBackend with 4 concurrent workers.\n",
            "/opt/conda/lib/python3.7/site-packages/joblib/externals/loky/process_executor.py:706: UserWarning: A worker stopped while some jobs were given to the executor. This can be caused by a too short worker timeout or by a memory leak.\n",
            "  \"timeout or by a memory leak.\", UserWarning\n",
            "[Parallel(n_jobs=-1)]: Done   2 out of   5 | elapsed:   13.0s remaining:   19.5s\n",
            "[Parallel(n_jobs=-1)]: Done   3 out of   5 | elapsed:   13.1s remaining:    8.7s\n",
            "[Parallel(n_jobs=-1)]: Done   5 out of   5 | elapsed:   20.1s remaining:    0.0s\n",
            "[Parallel(n_jobs=-1)]: Done   5 out of   5 | elapsed:   20.1s finished\n",
            "[Parallel(n_jobs=-1)]: Using backend LokyBackend with 4 concurrent workers.\n",
            "[Parallel(n_jobs=-1)]: Done   2 out of   5 | elapsed:   21.6s remaining:   32.4s\n",
            "[Parallel(n_jobs=-1)]: Done   3 out of   5 | elapsed:   22.1s remaining:   14.8s\n",
            "[Parallel(n_jobs=-1)]: Done   5 out of   5 | elapsed:   31.4s remaining:    0.0s\n",
            "[Parallel(n_jobs=-1)]: Done   5 out of   5 | elapsed:   31.4s finished\n"
          ],
          "name": "stderr"
        }
      ]
    },
    {
      "cell_type": "code",
      "metadata": {
        "trusted": true,
        "id": "7NGFzqROQVHe",
        "colab_type": "code",
        "colab": {},
        "outputId": "035fa3fd-13de-4a16-a508-aa683bd820c2"
      },
      "source": [
        "print(\"Resultados para o NB:\")\n",
        "print('roc: ' + str(cv1['test_roc_auc_ovr']))\n",
        "print('acuracia: ' + str(cv1['test_accuracy']))"
      ],
      "execution_count": null,
      "outputs": [
        {
          "output_type": "stream",
          "text": [
            "Resultados para o NB:\n",
            "roc: [0.88228243 0.88211654 0.88631492 0.88365494 0.88508601]\n",
            "acuracia: [0.78989667 0.79158295 0.79613949 0.78986079 0.79294633]\n"
          ],
          "name": "stdout"
        }
      ]
    },
    {
      "cell_type": "code",
      "metadata": {
        "trusted": true,
        "id": "vUJOgsS7QVHf",
        "colab_type": "code",
        "colab": {},
        "outputId": "4ed8a769-c269-4b5a-bb5b-46ed41485226"
      },
      "source": [
        "print(\"Resultados para a regressão logística:\")\n",
        "print('roc: ' + str(cv2['test_roc_auc_ovr']))\n",
        "print('acuracia: ' + str(cv2['test_accuracy']))"
      ],
      "execution_count": null,
      "outputs": [
        {
          "output_type": "stream",
          "text": [
            "Resultados para a regressão logística:\n",
            "roc: [0.92203203 0.92062655 0.92211078 0.92489159 0.92168691]\n",
            "acuracia: [0.84525689 0.84306831 0.84554392 0.8492035  0.84690729]\n"
          ],
          "name": "stdout"
        }
      ]
    },
    {
      "cell_type": "code",
      "metadata": {
        "trusted": true,
        "id": "0lVZXMd8QVHi",
        "colab_type": "code",
        "colab": {}
      },
      "source": [
        "## ajuste do modelo e avaliação na base de treino\n",
        "results1 = pipeline_NB.fit(X_train, y_train)\n",
        "results2 = pipeline_logreg.fit(X_train, y_train)"
      ],
      "execution_count": null,
      "outputs": []
    },
    {
      "cell_type": "markdown",
      "metadata": {
        "id": "-gSTSn4bQVHk",
        "colab_type": "text"
      },
      "source": [
        "### Performances no treino"
      ]
    },
    {
      "cell_type": "code",
      "metadata": {
        "trusted": true,
        "id": "LoJ4RTwJQVHk",
        "colab_type": "code",
        "colab": {},
        "outputId": "5fa0e09d-a636-4128-ac4a-f44b212a244e"
      },
      "source": [
        "print(classification_report(y_train, results1.predict(X_train), digits = 3))"
      ],
      "execution_count": null,
      "outputs": [
        {
          "output_type": "stream",
          "text": [
            "              precision    recall  f1-score   support\n",
            "\n",
            "           0      0.869     0.752     0.806     69762\n",
            "           1      0.781     0.886     0.830     69598\n",
            "\n",
            "    accuracy                          0.819    139360\n",
            "   macro avg      0.825     0.819     0.818    139360\n",
            "weighted avg      0.825     0.819     0.818    139360\n",
            "\n"
          ],
          "name": "stdout"
        }
      ]
    },
    {
      "cell_type": "code",
      "metadata": {
        "trusted": true,
        "id": "XbUmYNa6QVHm",
        "colab_type": "code",
        "colab": {},
        "outputId": "3864e9b3-35c8-49f2-805f-4cd8da524282"
      },
      "source": [
        "print(classification_report(y_train, results2.predict(X_train), digits = 3))"
      ],
      "execution_count": null,
      "outputs": [
        {
          "output_type": "stream",
          "text": [
            "              precision    recall  f1-score   support\n",
            "\n",
            "           0      0.869     0.873     0.871     69762\n",
            "           1      0.872     0.868     0.870     69598\n",
            "\n",
            "    accuracy                          0.871    139360\n",
            "   macro avg      0.871     0.871     0.871    139360\n",
            "weighted avg      0.871     0.871     0.871    139360\n",
            "\n"
          ],
          "name": "stdout"
        }
      ]
    },
    {
      "cell_type": "markdown",
      "metadata": {
        "id": "nGaGWpUwQVHo",
        "colab_type": "text"
      },
      "source": [
        "### Resultados no teste"
      ]
    },
    {
      "cell_type": "code",
      "metadata": {
        "trusted": true,
        "id": "m3zeJZMxQVHo",
        "colab_type": "code",
        "colab": {},
        "outputId": "04c0b9a5-cb11-46e7-8424-c7c2481e7be2"
      },
      "source": [
        "print(classification_report(y_test, results1.predict(X_test), digits = 3))"
      ],
      "execution_count": null,
      "outputs": [
        {
          "output_type": "stream",
          "text": [
            "              precision    recall  f1-score   support\n",
            "\n",
            "           0      0.843     0.726     0.780     17338\n",
            "           1      0.761     0.866     0.810     17502\n",
            "\n",
            "    accuracy                          0.796     34840\n",
            "   macro avg      0.802     0.796     0.795     34840\n",
            "weighted avg      0.802     0.796     0.795     34840\n",
            "\n"
          ],
          "name": "stdout"
        }
      ]
    },
    {
      "cell_type": "code",
      "metadata": {
        "trusted": true,
        "id": "wwv-KmeBQVHq",
        "colab_type": "code",
        "colab": {},
        "outputId": "6e546586-3bb4-421f-d5c8-397023829716"
      },
      "source": [
        "print(classification_report(y_test, results2.predict(X_test), digits = 3))"
      ],
      "execution_count": null,
      "outputs": [
        {
          "output_type": "stream",
          "text": [
            "              precision    recall  f1-score   support\n",
            "\n",
            "           0      0.847     0.853     0.850     17338\n",
            "           1      0.854     0.847     0.850     17502\n",
            "\n",
            "    accuracy                          0.850     34840\n",
            "   macro avg      0.850     0.850     0.850     34840\n",
            "weighted avg      0.850     0.850     0.850     34840\n",
            "\n"
          ],
          "name": "stdout"
        }
      ]
    },
    {
      "cell_type": "markdown",
      "metadata": {
        "id": "gkvvkOuKQVHs",
        "colab_type": "text"
      },
      "source": [
        " - matrizes de confusão"
      ]
    },
    {
      "cell_type": "code",
      "metadata": {
        "trusted": true,
        "id": "rH8YmIyfQVHt",
        "colab_type": "code",
        "colab": {},
        "outputId": "bbcacfcc-370e-4331-d9a6-2e8f5c1f5369"
      },
      "source": [
        "confusion_matrix(y_test, results1.predict(X_test))"
      ],
      "execution_count": null,
      "outputs": [
        {
          "output_type": "execute_result",
          "data": {
            "text/plain": [
              "array([[12588,  4750],\n",
              "       [ 2341, 15161]])"
            ]
          },
          "metadata": {
            "tags": []
          },
          "execution_count": 66
        }
      ]
    },
    {
      "cell_type": "code",
      "metadata": {
        "trusted": true,
        "id": "toJsDQI_QVHv",
        "colab_type": "code",
        "colab": {},
        "outputId": "2a8c4011-fe86-45b2-e12c-ff5ac9154053"
      },
      "source": [
        "confusion_matrix(y_test, results2.predict(X_test))"
      ],
      "execution_count": null,
      "outputs": [
        {
          "output_type": "execute_result",
          "data": {
            "text/plain": [
              "array([[14796,  2542],\n",
              "       [ 2680, 14822]])"
            ]
          },
          "metadata": {
            "tags": []
          },
          "execution_count": 67
        }
      ]
    },
    {
      "cell_type": "code",
      "metadata": {
        "trusted": true,
        "id": "U4wvMROYQVHy",
        "colab_type": "code",
        "colab": {}
      },
      "source": [
        "#curiosidade\n",
        "#confusion_matrix(df2['score2'], results1.predict(df2['text']))"
      ],
      "execution_count": null,
      "outputs": []
    },
    {
      "cell_type": "code",
      "metadata": {
        "trusted": true,
        "id": "Dv15ZvaVQVH0",
        "colab_type": "code",
        "colab": {}
      },
      "source": [
        "#hmm = pipeline_logreg['Tfidf']\n",
        "#hmm.fit_transform(CountVectorizer(stop_words='english').fit_transform(X_test[0]))\n",
        "#print(len(df1))\n",
        "#len(df2)\n",
        "corpus = X_train\n",
        "\n",
        "pipe = Pipeline([('count', CountVectorizer(stop_words = 'english')),\n",
        "                 ('tfid', TfidfTransformer())]).fit(corpus)\n"
      ],
      "execution_count": null,
      "outputs": []
    },
    {
      "cell_type": "code",
      "metadata": {
        "trusted": true,
        "id": "TWmZl6IGQVH3",
        "colab_type": "code",
        "colab": {},
        "outputId": "8f8474fa-dc6b-4fc1-b72a-1dd67ac609a3"
      },
      "source": [
        "print(pipe.transform(corpus)[0]) # ja vai dar o tf e df que seria uma matriz esparça aí ele representa dessa forma\n",
        "print(X_train[0])\n",
        "print(pipe.transform(corpus).shape) #nosso vocabulario tinha entao 71758 palavras "
      ],
      "execution_count": null,
      "outputs": [
        {
          "output_type": "stream",
          "text": [
            "  (0, 64503)\t0.17819139532576303\n",
            "  (0, 63837)\t0.31408801857734747\n",
            "  (0, 59790)\t0.16957381877339403\n",
            "  (0, 58870)\t0.22566356809371627\n",
            "  (0, 52917)\t0.18793411139998406\n",
            "  (0, 49967)\t0.18345175279786946\n",
            "  (0, 49810)\t0.2142982788365569\n",
            "  (0, 48026)\t0.18206165471687913\n",
            "  (0, 45715)\t0.2134100436322883\n",
            "  (0, 43341)\t0.24800639738692415\n",
            "  (0, 39879)\t0.19463805166301912\n",
            "  (0, 39336)\t0.1465080008401595\n",
            "  (0, 33036)\t0.177387388296609\n",
            "  (0, 21630)\t0.189414182394608\n",
            "  (0, 18649)\t0.28683480394779803\n",
            "  (0, 17697)\t0.2552849536691848\n",
            "  (0, 15251)\t0.22534794387765616\n",
            "  (0, 12007)\t0.32324313619710904\n",
            "  (0, 10193)\t0.11096203553763313\n",
            "  (0, 9791)\t0.3051305180738013\n",
            "bought several vitality canned dog food products found good quality product looks like stew processed meat smells better labrador finicky appreciates product better\n",
            "(139360, 71758)\n"
          ],
          "name": "stdout"
        }
      ]
    },
    {
      "cell_type": "code",
      "metadata": {
        "trusted": true,
        "id": "gA8vJO1tQVH5",
        "colab_type": "code",
        "colab": {},
        "outputId": "e65baf54-5131-4c2a-a4cc-bde21504f600"
      },
      "source": [
        "vc = CountVectorizer(stop_words = 'english')\n",
        "vect = vc.fit_transform(X_train)\n",
        "vect.shape # a nossa matriz esparça tem essa dimensão (num_de_docs x tamanho_vocab = 139360 x 71758)"
      ],
      "execution_count": null,
      "outputs": [
        {
          "output_type": "execute_result",
          "data": {
            "text/plain": [
              "(139360, 71758)"
            ]
          },
          "metadata": {
            "tags": []
          },
          "execution_count": 71
        }
      ]
    },
    {
      "cell_type": "markdown",
      "metadata": {
        "id": "eveDdFyKQVH8",
        "colab_type": "text"
      },
      "source": [
        "### Brincando com os nossos modelos"
      ]
    },
    {
      "cell_type": "code",
      "metadata": {
        "trusted": true,
        "id": "rvK6u42sQVH9",
        "colab_type": "code",
        "colab": {},
        "outputId": "47c31a12-7c6b-4032-eca9-ee933d4433a9"
      },
      "source": [
        "print(results1.predict(['this is a really bad food']))\n",
        "print(results2.predict(['this is a really bad food'])) #errado haha"
      ],
      "execution_count": null,
      "outputs": [
        {
          "output_type": "stream",
          "text": [
            "[1]\n",
            "[0]\n"
          ],
          "name": "stdout"
        }
      ]
    },
    {
      "cell_type": "code",
      "metadata": {
        "trusted": true,
        "id": "YA2Eh0b5QVH-",
        "colab_type": "code",
        "colab": {},
        "outputId": "5703695f-3a68-45d3-d53d-9a407c52ea2e"
      },
      "source": [
        "print(results1.predict(['i loved this food so much']))\n",
        "print(results2.predict(['i loved this food so much']))"
      ],
      "execution_count": null,
      "outputs": [
        {
          "output_type": "stream",
          "text": [
            "[1]\n",
            "[1]\n"
          ],
          "name": "stdout"
        }
      ]
    },
    {
      "cell_type": "code",
      "metadata": {
        "trusted": true,
        "id": "HqizE6WsQVIB",
        "colab_type": "code",
        "colab": {},
        "outputId": "5c03bba8-c4db-445a-edca-48aee2ad7463"
      },
      "source": [
        "print(results1.predict(['the worst dog food i ever had']))\n",
        "print(results2.predict(['the worst dog food i ever had']))\n",
        "print(results1.predict(['the best dog food i ever had']))\n",
        "print(results2.predict(['the best dog food i ever had']))\n"
      ],
      "execution_count": null,
      "outputs": [
        {
          "output_type": "stream",
          "text": [
            "[0]\n",
            "[0]\n",
            "[1]\n",
            "[1]\n"
          ],
          "name": "stdout"
        }
      ]
    },
    {
      "cell_type": "code",
      "metadata": {
        "trusted": true,
        "id": "ccv-G1_IQVIC",
        "colab_type": "code",
        "colab": {},
        "outputId": "bf9eab5a-b9e3-4eeb-add2-c05036e2f437"
      },
      "source": [
        "print(results1.predict(['i have a mixed opinion about this food it has some good stuff and some bad stuff'])) # errou\n",
        "print(results2.predict(['i have a mixed opinion about this food it has some good stuff and some bad stuff']))"
      ],
      "execution_count": null,
      "outputs": [
        {
          "output_type": "stream",
          "text": [
            "[1]\n",
            "[0]\n"
          ],
          "name": "stdout"
        }
      ]
    },
    {
      "cell_type": "code",
      "metadata": {
        "trusted": true,
        "id": "tMiWvwS1QVIE",
        "colab_type": "code",
        "colab": {},
        "outputId": "1a9b7615-c8e1-4a8b-fd1b-7dd35d86ff08"
      },
      "source": [
        "print(results1.predict(['BAD FOOD DO NOT BUY IT I HATED IT IT IS THE WORST']))\n",
        "print(results2.predict(['BAD FOOD DO NOT BUY IT I HATED IT IT IS THE WORST']))\n",
        "print(results1.predict(['BAD FOOD DO NOT BUY IT I HATED IT'])) # WORST É UMA PALAVRA MUITO IMPORTANTE PRO PRIMEIRO\n",
        "print(results2.predict(['BAD FOOD DO NOT BUY IT I HATED IT']))"
      ],
      "execution_count": null,
      "outputs": [
        {
          "output_type": "stream",
          "text": [
            "[0]\n",
            "[0]\n",
            "[1]\n",
            "[0]\n"
          ],
          "name": "stdout"
        }
      ]
    },
    {
      "cell_type": "code",
      "metadata": {
        "trusted": true,
        "id": "VcK-0zJwQVIH",
        "colab_type": "code",
        "colab": {},
        "outputId": "5679d628-02f4-45ac-d915-27fe60812b75"
      },
      "source": [
        "#df_remov = df2 - df\n",
        "df_remov = df2[df2.text.isin(df.text) == False]\n",
        "x_removido = df_remov['text']\n",
        "y_removido = df_remov['score2']\n",
        "print(print(classification_report(y_removido, results1.predict(x_removido), digits = 3)))\n",
        "print(print(classification_report(y_removido, results2.predict(x_removido), digits = 3)))"
      ],
      "execution_count": null,
      "outputs": [
        {
          "output_type": "stream",
          "text": [
            "/opt/conda/lib/python3.7/site-packages/sklearn/metrics/_classification.py:1221: UndefinedMetricWarning: Recall and F-score are ill-defined and being set to 0.0 in labels with no true samples. Use `zero_division` parameter to control this behavior.\n",
            "  _warn_prf(average, modifier, msg_start, len(result))\n"
          ],
          "name": "stderr"
        },
        {
          "output_type": "stream",
          "text": [
            "              precision    recall  f1-score   support\n",
            "\n",
            "           0      0.000     0.000     0.000         0\n",
            "           1      1.000     0.864     0.927    219920\n",
            "\n",
            "    accuracy                          0.864    219920\n",
            "   macro avg      0.500     0.432     0.464    219920\n",
            "weighted avg      1.000     0.864     0.927    219920\n",
            "\n",
            "None\n"
          ],
          "name": "stdout"
        },
        {
          "output_type": "stream",
          "text": [
            "/opt/conda/lib/python3.7/site-packages/sklearn/metrics/_classification.py:1221: UndefinedMetricWarning: Recall and F-score are ill-defined and being set to 0.0 in labels with no true samples. Use `zero_division` parameter to control this behavior.\n",
            "  _warn_prf(average, modifier, msg_start, len(result))\n"
          ],
          "name": "stderr"
        },
        {
          "output_type": "stream",
          "text": [
            "              precision    recall  f1-score   support\n",
            "\n",
            "           0      0.000     0.000     0.000         0\n",
            "           1      1.000     0.846     0.916    219920\n",
            "\n",
            "    accuracy                          0.846    219920\n",
            "   macro avg      0.500     0.423     0.458    219920\n",
            "weighted avg      1.000     0.846     0.916    219920\n",
            "\n",
            "None\n"
          ],
          "name": "stdout"
        }
      ]
    },
    {
      "cell_type": "code",
      "metadata": {
        "trusted": true,
        "id": "P-urqfoaQVIK",
        "colab_type": "code",
        "colab": {},
        "outputId": "0bdd763d-8f4d-40be-d810-6392ad76b29f"
      },
      "source": [
        "df2.head()"
      ],
      "execution_count": null,
      "outputs": [
        {
          "output_type": "execute_result",
          "data": {
            "text/plain": [
              "                                         summary  \\\n",
              "0                          Good Quality Dog Food   \n",
              "2                          \"Delight\" says it all   \n",
              "4                                    Great taffy   \n",
              "5                                     Nice Taffy   \n",
              "6  Great!  Just as good as the expensive brands!   \n",
              "\n",
              "                                                text  score  score2  \n",
              "0  bought several vitality canned dog food produc...      5       1  \n",
              "2  confection around centuries light pillowy citr...      4       1  \n",
              "4  great taffy great price wide assortment yummy ...      5       1  \n",
              "5  got wild hair taffy ordered five pound bag taf...      4       1  \n",
              "6  saltwater taffy great flavors soft chewy candy...      5       1  "
            ],
            "text/html": [
              "<div>\n",
              "<style scoped>\n",
              "    .dataframe tbody tr th:only-of-type {\n",
              "        vertical-align: middle;\n",
              "    }\n",
              "\n",
              "    .dataframe tbody tr th {\n",
              "        vertical-align: top;\n",
              "    }\n",
              "\n",
              "    .dataframe thead th {\n",
              "        text-align: right;\n",
              "    }\n",
              "</style>\n",
              "<table border=\"1\" class=\"dataframe\">\n",
              "  <thead>\n",
              "    <tr style=\"text-align: right;\">\n",
              "      <th></th>\n",
              "      <th>summary</th>\n",
              "      <th>text</th>\n",
              "      <th>score</th>\n",
              "      <th>score2</th>\n",
              "    </tr>\n",
              "  </thead>\n",
              "  <tbody>\n",
              "    <tr>\n",
              "      <th>0</th>\n",
              "      <td>Good Quality Dog Food</td>\n",
              "      <td>bought several vitality canned dog food produc...</td>\n",
              "      <td>5</td>\n",
              "      <td>1</td>\n",
              "    </tr>\n",
              "    <tr>\n",
              "      <th>2</th>\n",
              "      <td>\"Delight\" says it all</td>\n",
              "      <td>confection around centuries light pillowy citr...</td>\n",
              "      <td>4</td>\n",
              "      <td>1</td>\n",
              "    </tr>\n",
              "    <tr>\n",
              "      <th>4</th>\n",
              "      <td>Great taffy</td>\n",
              "      <td>great taffy great price wide assortment yummy ...</td>\n",
              "      <td>5</td>\n",
              "      <td>1</td>\n",
              "    </tr>\n",
              "    <tr>\n",
              "      <th>5</th>\n",
              "      <td>Nice Taffy</td>\n",
              "      <td>got wild hair taffy ordered five pound bag taf...</td>\n",
              "      <td>4</td>\n",
              "      <td>1</td>\n",
              "    </tr>\n",
              "    <tr>\n",
              "      <th>6</th>\n",
              "      <td>Great!  Just as good as the expensive brands!</td>\n",
              "      <td>saltwater taffy great flavors soft chewy candy...</td>\n",
              "      <td>5</td>\n",
              "      <td>1</td>\n",
              "    </tr>\n",
              "  </tbody>\n",
              "</table>\n",
              "</div>"
            ]
          },
          "metadata": {
            "tags": []
          },
          "execution_count": 78
        }
      ]
    },
    {
      "cell_type": "code",
      "metadata": {
        "trusted": true,
        "id": "Bsz-_savQVIM",
        "colab_type": "code",
        "colab": {},
        "outputId": "0a9b844c-78df-4be2-ef85-072aaa990574"
      },
      "source": [
        "from sklearn.linear_model import LogisticRegression\n",
        "def text_fit(X, y, model,clf_model,coef_show=1):\n",
        "    \n",
        "    X_c = model.fit_transform(X)\n",
        "    print('# features: {}'.format(X_c.shape[1]))\n",
        "    X_train, X_test, y_train, y_test = train_test_split(X_c, y, random_state=42, test_size = 0.2)\n",
        "    print('# train records: {}'.format(X_train.shape[0]))\n",
        "    print('# test records: {}'.format(X_test.shape[0]))\n",
        "    clf = clf_model.fit(X_train, y_train)\n",
        "    acc = clf.score(X_test, y_test)\n",
        "    print ('Model Accuracy: {}'.format(acc))\n",
        "    \n",
        "    if coef_show == 1: \n",
        "        w = model['count'].get_feature_names()\n",
        "        coef = clf.coef_.tolist()[0]\n",
        "        coeff_df = pd.DataFrame({'Word' : w, 'Coefficient' : coef})\n",
        "        coeff_df = coeff_df.sort_values(['Coefficient', 'Word'], ascending=[0, 1])\n",
        "        print('')\n",
        "        print('-Top 20 positive-')\n",
        "        print(coeff_df.head(20).to_string(index=False))\n",
        "        print('')\n",
        "        print('-Top 20 negative-')        \n",
        "        print(coeff_df.tail(20).sort_values(['Coefficient']).to_string(index=False))\n",
        "    \n",
        "#c = CountVectorizer(stop_words = 'english')\n",
        "c = Pipeline([('count', CountVectorizer(stop_words = 'english')),\n",
        "                 ('tfid', TfidfTransformer())])\n",
        "\n",
        "text_fit(X, y, c, LogisticRegression(max_iter = 1000))"
      ],
      "execution_count": null,
      "outputs": [
        {
          "output_type": "stream",
          "text": [
            "# features: 79592\n",
            "# train records: 139360\n",
            "# test records: 34840\n",
            "Model Accuracy: 0.8500861079219288\n",
            "\n",
            "-Top 20 positive-\n",
            "       Word  Coefficient\n",
            "      great     9.401210\n",
            "     highly     9.090713\n",
            "       best     9.019761\n",
            "  delicious     8.898997\n",
            "    perfect     8.340299\n",
            "  excellent     7.762421\n",
            "  wonderful     6.732997\n",
            "      loves     6.552457\n",
            "       love     6.551580\n",
            "     hooked     6.233780\n",
            "    pleased     6.125655\n",
            "    amazing     6.025014\n",
            "    awesome     5.554664\n",
            "  fantastic     5.439250\n",
            "       glad     5.377268\n",
            "  skeptical     5.285464\n",
            "   favorite     5.209960\n",
            "        yum     5.150084\n",
            " pleasantly     5.146063\n",
            "      thank     5.051823\n",
            "\n",
            "-Top 20 negative-\n",
            "           Word  Coefficient\n",
            "          worst    -9.119676\n",
            "  disappointing    -8.318022\n",
            "   disappointed    -8.285973\n",
            "             ok    -7.597030\n",
            "       terrible    -7.523700\n",
            "  unfortunately    -7.187391\n",
            "       horrible    -7.091117\n",
            "          awful    -7.019605\n",
            " disappointment    -6.848134\n",
            "           okay    -6.611268\n",
            "         hoping    -6.091162\n",
            "          threw    -5.767868\n",
            "          bland    -5.562886\n",
            "          stale    -5.539488\n",
            "            bad    -5.340707\n",
            "         return    -5.327203\n",
            "          maybe    -5.037359\n",
            "     disgusting    -5.009236\n",
            "        thought    -4.928410\n",
            "          sorry    -4.891669\n"
          ],
          "name": "stdout"
        }
      ]
    },
    {
      "cell_type": "code",
      "metadata": {
        "trusted": true,
        "id": "hOuL3FL9QVIO",
        "colab_type": "code",
        "colab": {}
      },
      "source": [
        "#text_fit(X, y, c, LogisticRegression())"
      ],
      "execution_count": null,
      "outputs": []
    },
    {
      "cell_type": "markdown",
      "metadata": {
        "id": "xsSSqBKIQVIQ",
        "colab_type": "text"
      },
      "source": [
        "# Abordagem com redes neurais (não vai rolar dessa vez)"
      ]
    },
    {
      "cell_type": "markdown",
      "metadata": {
        "id": "oKFn8MCXQVIQ",
        "colab_type": "text"
      },
      "source": [
        "pode ser meio overkill dado o que ja temos kkkk vai rolar nao"
      ]
    },
    {
      "cell_type": "code",
      "metadata": {
        "trusted": true,
        "id": "03CiGxcsQVIQ",
        "colab_type": "code",
        "colab": {}
      },
      "source": [
        "#from keras.models import Sequential\n",
        "#from keras.layers import Dense, SimpleRNN, LSTM\n",
        "#from keras.utils import to_categorical"
      ],
      "execution_count": null,
      "outputs": []
    },
    {
      "cell_type": "code",
      "metadata": {
        "trusted": true,
        "id": "-HOUJqkNQVIS",
        "colab_type": "code",
        "colab": {}
      },
      "source": [
        "#X = np.array(list(df['tfidf']))\n",
        "#len_treino = int(.8*X.shape[0])\n",
        "#inds = np.random.choice(range(X.shape[0]), len_treino, replace = False)\n",
        "#\n",
        "#x_treino = X[inds].reshape((-1, 100, 1))\n",
        "#x_teste = X[inds].reshape((-1, 100, 1))\n",
        "#y_treino = to_categorical(np.array(df['score'])[inds])\n",
        "#y_teste = to_categorical(np.delete(np.array(df['score']), inds))"
      ],
      "execution_count": null,
      "outputs": []
    },
    {
      "cell_type": "code",
      "metadata": {
        "trusted": true,
        "id": "0LDMS3djQVIU",
        "colab_type": "code",
        "colab": {}
      },
      "source": [
        "#model = Sequential()\n",
        "#model.add(SimpleRNN(128, input_shape = (X.shape[1],1), activation = 'sigmoid'))\n",
        "#model.add(Dense(1, activation = 'softmax'))\n",
        "#\n",
        "#model.compile(optimizer = 'adam', loss = 'binary_crossentropy', metrics = ['accuracy'])\n"
      ],
      "execution_count": null,
      "outputs": []
    },
    {
      "cell_type": "code",
      "metadata": {
        "trusted": true,
        "id": "wG4v2vOTQVIX",
        "colab_type": "code",
        "colab": {}
      },
      "source": [
        "## ainda n rolou\n",
        "#history = model.fit(x_treino, y_treino, epochs = 1, batch_size = 16) "
      ],
      "execution_count": null,
      "outputs": []
    },
    {
      "cell_type": "code",
      "metadata": {
        "trusted": true,
        "id": "Q3tHfHFBQVIZ",
        "colab_type": "code",
        "colab": {}
      },
      "source": [
        ""
      ],
      "execution_count": null,
      "outputs": []
    },
    {
      "cell_type": "code",
      "metadata": {
        "trusted": true,
        "id": "_rrmFsDjQVIa",
        "colab_type": "code",
        "colab": {}
      },
      "source": [
        ""
      ],
      "execution_count": null,
      "outputs": []
    },
    {
      "cell_type": "code",
      "metadata": {
        "trusted": true,
        "id": "z2H0MT60QVIc",
        "colab_type": "code",
        "colab": {}
      },
      "source": [
        ""
      ],
      "execution_count": null,
      "outputs": []
    },
    {
      "cell_type": "code",
      "metadata": {
        "trusted": true,
        "id": "MxWLZhE4QVId",
        "colab_type": "code",
        "colab": {}
      },
      "source": [
        ""
      ],
      "execution_count": null,
      "outputs": []
    },
    {
      "cell_type": "code",
      "metadata": {
        "trusted": true,
        "id": "56veDKFCQVIf",
        "colab_type": "code",
        "colab": {}
      },
      "source": [
        ""
      ],
      "execution_count": null,
      "outputs": []
    }
  ]
}